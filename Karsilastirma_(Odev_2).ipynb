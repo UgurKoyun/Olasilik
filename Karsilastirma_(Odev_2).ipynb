{
  "nbformat": 4,
  "nbformat_minor": 0,
  "metadata": {
    "colab": {
      "name": "Karsilastirma (Odev_2).ipynb",
      "provenance": [],
      "collapsed_sections": [],
      "authorship_tag": "ABX9TyOE4eRH23XUqX7iSI0OnV4s",
      "include_colab_link": true
    },
    "kernelspec": {
      "name": "python3",
      "display_name": "Python 3"
    }
  },
  "cells": [
    {
      "cell_type": "markdown",
      "metadata": {
        "id": "view-in-github",
        "colab_type": "text"
      },
      "source": [
        "<a href=\"https://colab.research.google.com/github/UgurKoyun/Olasilik/blob/master/Karsilastirma_(Odev_2).ipynb\" target=\"_parent\"><img src=\"https://colab.research.google.com/assets/colab-badge.svg\" alt=\"Open In Colab\"/></a>"
      ]
    },
    {
      "cell_type": "markdown",
      "metadata": {
        "id": "pEJcm0_5Tyoh",
        "colab_type": "text"
      },
      "source": [
        "# **Soru:**\n",
        "Tasarlanan bir FM Radyo verici devresi ses sinyalleri yayınlamaktadır. Gönderilen ses sinyallerinin boyutu bir mili saniyede 47 byte olacak şekilde tasarım yapılmıştır. Alıcı FM Radyo devresinde, alınan her 47 byte ses sinyali verisi içerisinde 5 byte hatalı veri olduğunu tespit edilmiştir.\n",
        "\n",
        "**Bu bilgilere göre bir mili saniyelik ses verisi içerisinden 4 byte veri seçmek ve bu veriler üzerinden işlem yapmak isteyen bir mühendisin seçtiği verilerin hatalı veri olma olasığını hesaplayınız.**"
      ]
    },
    {
      "cell_type": "markdown",
      "metadata": {
        "id": "m5YLAnisXuXS",
        "colab_type": "text"
      },
      "source": [
        "# **Çözüm:**\n",
        "\n",
        "\n",
        "\n",
        "*   Toplam veri sayısı =  47 byte \n",
        "*   Doğru veri sayısı = 42 byte\n",
        "*   Yanlış veri sayısı = 5 byte\n",
        "*   Seçilen veri sayısı = 4 byte\n",
        "\n",
        "Seçilen 10 byte veri için tüm byte'ların doğru olma olasılığı 1'den çıkarılırsa istenilen sonuç elde edilir.\n",
        "\n",
        "\n",
        "\n",
        "*   P(A)=İstenen durumlar\n",
        "*   P'(A)=İstenmeyen durumlar\n",
        "*   S(E)=Tüm Durumlar\n",
        "\n",
        "\n",
        "P(A)+P'(A)=1\n",
        "\n",
        "P(A)=1-P'(A)\n",
        "\n",
        "P'(A)=(Olay Uzayı/Örnek Uzayı)\n",
        "\n",
        "P'(A)=(c(42,4)/c(47,4))\n",
        "\n",
        "\n",
        "\n",
        "\n",
        "\n",
        "\n",
        "\n",
        "\n",
        "\n"
      ]
    },
    {
      "cell_type": "code",
      "metadata": {
        "id": "5cUiz3khifSC",
        "colab_type": "code",
        "colab": {
          "base_uri": "https://localhost:8080/",
          "height": 34
        },
        "outputId": "9234ab9c-3c7d-4db6-c7c6-025f15dfc617"
      },
      "source": [
        "# 21.04.2020\n",
        "# Uğur Koyun\n",
        "# Homework-2\n",
        "\n",
        "\n",
        "# factorial calculation \n",
        "def fact(i):\n",
        "    if i==1:       \n",
        "        return 1\n",
        "    else: \n",
        "        return i * fact(i-1)\n",
        "\n",
        "\n",
        "# combination calculation\n",
        "def comb(n,m):\n",
        "    return int(fact(n)/(fact(n-m)*fact(m)))\n",
        "\n",
        "\n",
        "ttl_data_num = 47        # total data number\n",
        "corr_data_num = 42       # correct data number\n",
        "incorr_data_num = 5      # incorrect data number\n",
        "cho_data_num = 4        # choise data number\n",
        "\n",
        "\n",
        "p_a = (comb(corr_data_num,cho_data_num)/comb(ttl_data_num,cho_data_num))\n",
        "result = 1 - p_a\n",
        "\n",
        "print('result: ' + str(result))"
      ],
      "execution_count": 18,
      "outputs": [
        {
          "output_type": "stream",
          "text": [
            "result: 0.3724665713564881\n"
          ],
          "name": "stdout"
        }
      ]
    }
  ]
}